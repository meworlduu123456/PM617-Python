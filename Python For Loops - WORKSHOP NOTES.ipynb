{
 "cells": [
  {
   "cell_type": "markdown",
   "metadata": {
    "id": "ZvNsvUNNlZbi"
   },
   "source": [
    "---\n",
    "# Crash Course Python for Data Science - Intro to Python  \n",
    "---\n",
    "# 03 - Python For Loops\n",
    "---\n",
    "\n"
   ]
  },
  {
   "cell_type": "markdown",
   "metadata": {
    "id": "1z0tw5PXQWd0"
   },
   "source": [
    "## Running blocks of code repeatedly (iteration)"
   ]
  },
  {
   "cell_type": "markdown",
   "metadata": {
    "id": "K-zPKPSTKGzi"
   },
   "source": [
    "Loops in Python provide a way for us to run the same block of code over and over again. This repetition is called ***iteration***. There are many ways to iterate in Python, but we're going to focus on the most popular: For Loops.\n",
    "\n",
    "For Loops are a type of \"definitive\" iteration. This just means that we have to specify beforehand how many times we want our block of code to run."
   ]
  },
  {
   "cell_type": "markdown",
   "metadata": {
    "id": "agkrtqvAMcEH"
   },
   "source": [
    "### How do we tell a For Loop how many times to run?\n",
    "\n",
    "The way that we tell a For Loop how many times to run is by providing it an \"iterable.\" Iterables are a category of data structures that hold multiple items in them (this actually isn't 100% correct but is an OK way to think about it as you're getting started). A list is an iterable! \n",
    "\n",
    "If I provide a list to a For Loop, the loop will run once for each item in the list. \n"
   ]
  },
  {
   "cell_type": "code",
   "execution_count": null,
   "metadata": {
    "id": "aBWTv9jOLsrP"
   },
   "outputs": [],
   "source": [
    "for item in [1,2,3,4,5]:\n",
    "  print('Hello!')"
   ]
  },
  {
   "cell_type": "code",
   "execution_count": null,
   "metadata": {
    "id": "Nr8l3zXPMCyr"
   },
   "outputs": [],
   "source": [
    "for value in [1,2,3,4,5]:\n",
    "  print(value)"
   ]
  },
  {
   "cell_type": "markdown",
   "metadata": {
    "id": "evaHGbNmS-vl"
   },
   "source": [
    "### For Loop Syntax"
   ]
  },
  {
   "cell_type": "markdown",
   "metadata": {
    "id": "ncSDh-qlNlRw"
   },
   "source": [
    "Notice that I start a for loop off with the keyword `for` and then provide a variable whose value will change based on each iteration of the for loop. \n",
    "\n",
    "I use the keyword `in` to indicate that this variable will represent items from the following iterable, and then I provide an iterable. In the above examples I simply used a list. \n",
    "\n",
    "The declaration of any for loop ends with a colon `:`, this tells the Python interpreter that I'm done with that statement and that the code block that I want to repeat is coming next.\n",
    "\n",
    "When providing the block that I want to be repeated I have to indent each line in order to designate that the code block is within the for loop. If I want to write additional code after the for loop, then I just don't indent it."
   ]
  },
  {
   "cell_type": "code",
   "execution_count": null,
   "metadata": {
    "id": "XOrh2TiZOZE9"
   },
   "outputs": [],
   "source": [
    "animal_list = ['cat', 'dog', 'fish', 'bird']\n",
    "\n",
    "for animal in animal_list:\n",
    "  # Indent to put things inside the For Loop\n",
    "  print('-------------------')\n",
    "  print(\"*****\", animal, \"*****\")\n",
    "  print('-------------------\\n')\n",
    "\n",
    "# Unindent to put code outside of the for loop\n",
    "print(\"Are some of my favorite animals.\")"
   ]
  },
  {
   "cell_type": "markdown",
   "metadata": {
    "id": "O3i4ozrMQkNG"
   },
   "source": [
    "### The range() Iterable\n",
    "\n",
    "What if I wanted a block of code to run 11 times, but I didn't have a list handy out to use as the iterable? Well, there's a really easy way to make iterables in python using the `range()` function.\n",
    "\n",
    "In order to make an iterable of a certain size simply pass in two arguments to the range function:\n",
    "\n",
    "1.   The number you want it to start at (inclusive).\n",
    "2.   The number you want it to end at (exclusive)."
   ]
  },
  {
   "cell_type": "code",
   "execution_count": 1,
   "metadata": {
    "id": "iq8IfrcLeQOZ"
   },
   "outputs": [
    {
     "name": "stdout",
     "output_type": "stream",
     "text": [
      "1\n",
      "2\n",
      "3\n",
      "4\n",
      "5\n",
      "6\n",
      "7\n",
      "8\n",
      "9\n",
      "10\n",
      "11\n"
     ]
    }
   ],
   "source": [
    "for number in [1,2,3,4,5,6,7,8,9,10,11]:\n",
    "  print(number)"
   ]
  },
  {
   "cell_type": "code",
   "execution_count": 2,
   "metadata": {
    "id": "K6aKDfYtQ1wv"
   },
   "outputs": [
    {
     "name": "stdout",
     "output_type": "stream",
     "text": [
      "1\n",
      "2\n",
      "3\n",
      "4\n",
      "5\n",
      "6\n",
      "7\n",
      "8\n",
      "9\n",
      "10\n",
      "11\n"
     ]
    }
   ],
   "source": [
    "for number in range(1,12):\n",
    "  print(number)"
   ]
  },
  {
   "cell_type": "markdown",
   "metadata": {
    "id": "GPBEz2vSRtEi"
   },
   "source": [
    "If I only pass one argument into the range function, then it will just start at 0 and count up to one less than that number.\n",
    "\n",
    "In this case it becomes kind of nice that the range function starts at 0 and that the second argument of the range function is exclusive, because if I want a loop to run 5 times then I can just pass in exactly then number 5 to the range function and use that as my iterable and I'll get a loop that runs 5 times."
   ]
  },
  {
   "cell_type": "code",
   "execution_count": 3,
   "metadata": {
    "id": "ahdpNB2XSJlf"
   },
   "outputs": [
    {
     "name": "stdout",
     "output_type": "stream",
     "text": [
      "0\n",
      "1\n",
      "2\n",
      "3\n",
      "4\n"
     ]
    }
   ],
   "source": [
    "for item in range(5):\n",
    "  print(item)"
   ]
  },
  {
   "cell_type": "code",
   "execution_count": 4,
   "metadata": {
    "id": "FobWPtPzR0kL"
   },
   "outputs": [
    {
     "name": "stdout",
     "output_type": "stream",
     "text": [
      "This code has run 1 times\n",
      "This code has run 2 times\n",
      "This code has run 3 times\n",
      "This code has run 4 times\n",
      "This code has run 5 times\n"
     ]
    }
   ],
   "source": [
    "for item in range(5):\n",
    "  print('This code has run', item + 1, 'times')"
   ]
  },
  {
   "cell_type": "markdown",
   "metadata": {
    "id": "bRJlLliUR3zd"
   },
   "source": [
    "The range function is a great way to tell a for loop how many times to run when you don't have an iterable data structure handy to provide to the loop. "
   ]
  },
  {
   "cell_type": "markdown",
   "metadata": {
    "id": "6S6SE5NpUBCV"
   },
   "source": [
    "### Manipulating Lists as we iterate over them\n",
    "\n",
    "One of the most powerful uses of For Loops is using them in combination with lists in order to run different code based on each individual value in a list. For example, I can write a for loop that squares each value in a list"
   ]
  },
  {
   "cell_type": "code",
   "execution_count": null,
   "metadata": {
    "id": "gknEoGrqUQdJ"
   },
   "outputs": [],
   "source": [
    "numbers_to_square = [1,2,3,4,5]\n",
    "\n",
    "for number in numbers_to_square:\n",
    "  print(number**2)"
   ]
  },
  {
   "cell_type": "markdown",
   "metadata": {
    "id": "u9bttc8IUzjB"
   },
   "source": [
    "I can create a new list that holds the squared values by creating an empty list and appending these new values to the empty list"
   ]
  },
  {
   "cell_type": "code",
   "execution_count": null,
   "metadata": {
    "id": "JkrwobfGU7xh"
   },
   "outputs": [],
   "source": [
    "numbers_to_square = [1,2,3,4]\n",
    "\n",
    "# empty list to save squared numbers\n",
    "squared_numbers = []\n",
    "\n",
    "# loop\n",
    "for number in numbers_to_square:\n",
    "  squared_numbers.append(number**2) # add numbers squared to empty list!\n",
    "\n",
    "print(numbers_to_square)\n",
    "print(squared_numbers)"
   ]
  },
  {
   "cell_type": "markdown",
   "metadata": {
    "id": "QZWwkdwiVDQG"
   },
   "source": [
    "I can also keep track of the number of iterations that the for loop is on by using the `enumerate()` function. When I use the enumerate function I can add a second variable to the beginning of the for loop. The first variable will represent the specific iteration of the for loop, and the second variable will change to represent the each item in the list."
   ]
  },
  {
   "cell_type": "code",
   "execution_count": null,
   "metadata": {
    "id": "ONqnxN1qVJLy"
   },
   "outputs": [],
   "source": [
    "for index, number in enumerate(numbers_to_square):\n",
    "  print(f'Index: {index}, number in original list: {number}, number in original list squared: {number**2}')"
   ]
  },
  {
   "cell_type": "markdown",
   "metadata": {
    "id": "nP0vzEaHjadN"
   },
   "source": [
    "Now not only can I use this `i` variable in combination with the `enumerate()` function to track the iteration that my loop is on, I can use it to overwrite values in the original list as well."
   ]
  },
  {
   "cell_type": "code",
   "execution_count": null,
   "metadata": {
    "id": "3mbTusxZjZZy"
   },
   "outputs": [],
   "source": [
    "for index, number in enumerate(numbers_to_square): # 0,1,2,3, [1, 2, 3, 4]\n",
    "\n",
    "  # first loop: in list numbers_to_square[0] = 1**2\n",
    "  # second loop: in list numbers_to_square[1] = 2**2\n",
    "  # third loop: in list numbers_to_square[2] = 3**2\n",
    "  # fourth loop: in list numbers_to_square[3] = 4**2\n",
    "\n",
    "  numbers_to_square[index] = number**2\n",
    "\n",
    "print(numbers_to_square)"
   ]
  },
  {
   "cell_type": "markdown",
   "metadata": {
    "id": "fimEGSQcXiAk"
   },
   "source": [
    "### Using For Loops to modify the list that we are looping (iterating) over"
   ]
  },
  {
   "cell_type": "markdown",
   "metadata": {
    "id": "EO0-trJ3XChL"
   },
   "source": [
    "I can now use this \"index\" value not only to access items in the original list but to modify the previous list as I am looping over it. Lets write a loop that subtracts one from each item in the list that we are iterating over."
   ]
  },
  {
   "cell_type": "code",
   "execution_count": null,
   "metadata": {
    "id": "fIBeN0-EXP4G"
   },
   "outputs": [],
   "source": [
    "my_list = [5,6,7,8,9,10]\n",
    "\n",
    "for item, number in enumerate(my_list):\n",
    "  my_list[item] = my_list[item]-1\n",
    "\n",
    "print(my_list)"
   ]
  },
  {
   "cell_type": "markdown",
   "metadata": {
    "id": "leNkJNhXXqs4"
   },
   "source": [
    "Please notice that we did not create a new list as we did this, but we modified the original list itself. "
   ]
  },
  {
   "cell_type": "code",
   "execution_count": null,
   "metadata": {
    "id": "KBOjfBXAq0Vz"
   },
   "outputs": [],
   "source": [
    "# This is what we would have to do in order to replicate\n",
    "# by hand what our for loop above was doing in just 2 lines.\n",
    "\n",
    "# my_list[0] = my_list[0]-1\n",
    "# my_list[1] = my_list[1]-1\n",
    "# my_list[2] = my_list[2]-1\n",
    "# my_list[3] = my_list[3]-1\n",
    "# my_list[4] = my_list[4]-1\n",
    "# my_list[5] = my_list[5]-1\n",
    "\n",
    "# my_list"
   ]
  },
  {
   "cell_type": "markdown",
   "metadata": {
    "id": "mX2vddVaXeuL"
   },
   "source": [
    "Now we're beginning to see how combining lists and for loops can be very powerful for helping us to manipulate lots of pieces of information in a consistent way without having to repeat our code many times. "
   ]
  },
  {
   "cell_type": "markdown",
   "metadata": {
    "id": "1iSKczwpX-0O"
   },
   "source": [
    "### Looping over two-dimensional lists\n",
    "\n",
    "If we have lists inside of lists then we can loop through them by putting for loops inside of for loops. These are called \"nested\" for loops.\n",
    "\n",
    "Lets look at our two-dimensional list from the previous lesson and see if we can access the values inside of it in an orderly manner.\n"
   ]
  },
  {
   "cell_type": "code",
   "execution_count": 5,
   "metadata": {
    "id": "3RCic2KQYa9e"
   },
   "outputs": [],
   "source": [
    "students = [           \n",
    "    [\"Popeye\", 24],  \n",
    "    [\"Tabatha\", 23], \n",
    "    [\"Jerry\", 25],\n",
    "    [\"Flynn\", 23],    \n",
    "    [\"Sally\", 40],\n",
    "    [\"Michael\", 46],\n",
    "    [\"Susie\", 19],\n",
    "    [\"Amanda\", 34]\n",
    "]           "
   ]
  },
  {
   "cell_type": "code",
   "execution_count": 6,
   "metadata": {
    "id": "U23VSUn_XNTQ"
   },
   "outputs": [
    {
     "name": "stdout",
     "output_type": "stream",
     "text": [
      "Popeye\n",
      "24\n",
      "Tabatha\n",
      "23\n",
      "Jerry\n",
      "25\n",
      "Flynn\n",
      "23\n",
      "Sally\n",
      "40\n",
      "Michael\n",
      "46\n",
      "Susie\n",
      "19\n",
      "Amanda\n",
      "34\n"
     ]
    }
   ],
   "source": [
    "for student in students:\n",
    "  for age in student:\n",
    "    print(age)"
   ]
  },
  {
   "cell_type": "markdown",
   "metadata": {
    "id": "-Ua3SRxNYu44"
   },
   "source": [
    "Lets say that the above list represents our database of student information. A new school year is starting and we want to increment the ages of all of the students by 1, how might we do this?"
   ]
  },
  {
   "cell_type": "code",
   "execution_count": 7,
   "metadata": {
    "id": "CIr_lugSY3Ph"
   },
   "outputs": [
    {
     "name": "stdout",
     "output_type": "stream",
     "text": [
      "[['Popeye', 25], ['Tabatha', 24], ['Jerry', 26], ['Flynn', 24], ['Sally', 41], ['Michael', 47], ['Susie', 20], ['Amanda', 35]]\n"
     ]
    }
   ],
   "source": [
    "for index, student in enumerate(students):\n",
    "  # first loop: 24 = 24 + 1\n",
    "  # second loop: 23 = 23 + 1\n",
    "  students[index][1] = students[index][1] + 1\n",
    "\n",
    "print(students)"
   ]
  },
  {
   "cell_type": "markdown",
   "metadata": {
    "id": "r_K1J3WdZWjI"
   },
   "source": [
    "What if we only wanted to print out the ages of the students?"
   ]
  },
  {
   "cell_type": "code",
   "execution_count": 8,
   "metadata": {
    "id": "wTrsvc_EZbta"
   },
   "outputs": [
    {
     "name": "stdout",
     "output_type": "stream",
     "text": [
      "25\n",
      "24\n",
      "26\n",
      "24\n",
      "41\n",
      "47\n",
      "20\n",
      "35\n"
     ]
    }
   ],
   "source": [
    "for student in students:\n",
    "  print(student[1])"
   ]
  },
  {
   "cell_type": "markdown",
   "metadata": {
    "id": "fu3l5F1JZk56"
   },
   "source": [
    "What if we wanted to calculate the average age of students in the class?"
   ]
  },
  {
   "cell_type": "code",
   "execution_count": null,
   "metadata": {
    "id": "dWkZK-YZkVjd"
   },
   "outputs": [],
   "source": [
    "print(students)"
   ]
  },
  {
   "cell_type": "code",
   "execution_count": null,
   "metadata": {
    "id": "IuzxQOJ2ZnTn"
   },
   "outputs": [],
   "source": [
    "total_age = 0           # initialise total age to be 0\n",
    "\n",
    "# for list in nested list\n",
    "for student_list in students:\n",
    "  # first loop:\n",
    "  # 0 = 0 + 25\n",
    "  # second loop:\n",
    "  # 25 = 25 + 24\n",
    "  # third loop:\n",
    "  # 49 = 49 + 26\n",
    "  # ...\n",
    "  total_age = total_age + student_list[1] \n",
    "\n",
    "print(\"Average age of class:\", total_age/len(students))"
   ]
  }
 ],
 "metadata": {
  "colab": {
   "collapsed_sections": [],
   "name": "Python For Loops - WORKSHOP NOTES.ipynb",
   "provenance": [
    {
     "file_id": "1H4F4Hgme1-TAPgTS64iTZsfhbWZOByGY",
     "timestamp": 1574173927318
    },
    {
     "file_id": "1B_phNqBTry4w9iuzK8v7JaITYA5F6QPv",
     "timestamp": 1566069412603
    },
    {
     "file_id": "1Gj8xFEghBwX8exDkdBWvNSzOUTYlNxI9",
     "timestamp": 1559565174121
    },
    {
     "file_id": "1TeHiJ5s48kWFy5BosIWhjK2MQyMkPHNo",
     "timestamp": 1559546187577
    },
    {
     "file_id": "1f_9CXFJzBvrAePaDr_WYQGHEBS5th53b",
     "timestamp": 1559541190636
    }
   ]
  },
  "kernelspec": {
   "display_name": "Python 3",
   "name": "python3"
  },
  "language_info": {
   "codemirror_mode": {
    "name": "ipython",
    "version": 3
   },
   "file_extension": ".py",
   "mimetype": "text/x-python",
   "name": "python",
   "nbconvert_exporter": "python",
   "pygments_lexer": "ipython3",
   "version": "3.13.2"
  }
 },
 "nbformat": 4,
 "nbformat_minor": 0
}
