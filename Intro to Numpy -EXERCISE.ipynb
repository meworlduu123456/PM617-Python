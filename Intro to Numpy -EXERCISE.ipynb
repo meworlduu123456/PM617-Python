{
 "cells": [
  {
   "cell_type": "markdown",
   "metadata": {
    "colab_type": "text",
    "id": "ZvNsvUNNlZbi"
   },
   "source": [
    "---\n",
    "# Crash Course Python for Data Science - Intro to Python  \n",
    "---\n",
    "# 06 - Numpy\n",
    "---\n",
    "\n"
   ]
  },
  {
   "cell_type": "markdown",
   "metadata": {
    "colab_type": "text",
    "id": "y8HUQb0OOztX"
   },
   "source": [
    "## STOP! BEFORE GOING ANY FURTHER...  \n",
    "\n",
    "Remember, this exercises are open book, open neighbour, open everything! Try to do them on your own before looking at the solution samples.\n",
    "\n"
   ]
  },
  {
   "cell_type": "markdown",
   "metadata": {
    "colab_type": "text",
    "id": "xMq6Of2Gt24o"
   },
   "source": [
    "### Import Numpy as Np"
   ]
  },
  {
   "cell_type": "code",
   "execution_count": 1,
   "metadata": {
    "colab": {},
    "colab_type": "code",
    "id": "h3r0IvHVuGJb"
   },
   "outputs": [
    {
     "name": "stdout",
     "output_type": "stream",
     "text": [
      "NumPy imported!\n"
     ]
    }
   ],
   "source": [
    "# Make sure you run this cell first\n",
    "import numpy as np\n",
    "print('NumPy imported!')"
   ]
  },
  {
   "cell_type": "markdown",
   "metadata": {
    "colab_type": "text",
    "id": "DvYie7qokbDH"
   },
   "source": [
    "### Generate random numbers\n",
    "Create a (5,3) Numpy array of random integer values between 0 and 100."
   ]
  },
  {
   "cell_type": "code",
   "execution_count": 0,
   "metadata": {
    "colab": {},
    "colab_type": "code",
    "id": "tuk3ihI444Lz"
   },
   "outputs": [],
   "source": [
    "### YOUR CODE GOES HERE ###"
   ]
  },
  {
   "cell_type": "code",
   "execution_count": 2,
   "metadata": {
    "cellView": "form",
    "colab": {},
    "colab_type": "code",
    "id": "UNJo_50VktRs"
   },
   "outputs": [
    {
     "data": {
      "text/plain": [
       "array([[ 7, 23, 18],\n",
       "       [80, 18, 37],\n",
       "       [60, 44, 50],\n",
       "       [97, 27, 40],\n",
       "       [29, 22, 29]])"
      ]
     },
     "execution_count": 2,
     "metadata": {},
     "output_type": "execute_result"
    }
   ],
   "source": [
    "#@title Double click here for a sample solution\n",
    "\n",
    "x = np.random.randint(0,100, (5,3))\n",
    "x"
   ]
  },
  {
   "cell_type": "markdown",
   "metadata": {
    "colab_type": "text",
    "id": "CYy4Zp5pk7tS"
   },
   "source": [
    "### Array practice"
   ]
  },
  {
   "cell_type": "code",
   "execution_count": 3,
   "metadata": {
    "colab": {},
    "colab_type": "code",
    "id": "JkmYBBgJ5g8V"
   },
   "outputs": [
    {
     "name": "stdout",
     "output_type": "stream",
     "text": [
      "First row: [ 7 23 18]\n"
     ]
    }
   ],
   "source": [
    "# Return the first row:\n",
    "\n",
    "### YOUR CODE GOES HERE ###\n",
    "first_row = x[0, :]\n",
    "print(\"First row:\", first_row)\n"
   ]
  },
  {
   "cell_type": "code",
   "execution_count": 4,
   "metadata": {
    "cellView": "form",
    "colab": {},
    "colab_type": "code",
    "id": "lIxLoTfGl910"
   },
   "outputs": [
    {
     "data": {
      "text/plain": [
       "array([ 7, 23, 18])"
      ]
     },
     "execution_count": 4,
     "metadata": {},
     "output_type": "execute_result"
    }
   ],
   "source": [
    "#@title Double click here for a sample solution\n",
    "\n",
    "# Return the first row:\n",
    "x[0,]"
   ]
  },
  {
   "cell_type": "code",
   "execution_count": 5,
   "metadata": {
    "colab": {},
    "colab_type": "code",
    "id": "WLengwbz5m-U"
   },
   "outputs": [
    {
     "name": "stdout",
     "output_type": "stream",
     "text": [
      "Last column: [18 37 50 40 29]\n"
     ]
    }
   ],
   "source": [
    "# Return last column\n",
    "\n",
    "### YOUR CODE GOES HERE ###\n",
    "last_column = x[:, -1]\n",
    "print(\"Last column:\", last_column)\n"
   ]
  },
  {
   "cell_type": "code",
   "execution_count": 6,
   "metadata": {
    "cellView": "form",
    "colab": {},
    "colab_type": "code",
    "id": "lMafok6zoGB-"
   },
   "outputs": [
    {
     "data": {
      "text/plain": [
       "array([18, 37, 50, 40, 29])"
      ]
     },
     "execution_count": 6,
     "metadata": {},
     "output_type": "execute_result"
    }
   ],
   "source": [
    "#@title Double click here for a sample solution\n",
    "\n",
    "# Return last column\n",
    "x[:, -1]"
   ]
  },
  {
   "cell_type": "code",
   "execution_count": 8,
   "metadata": {
    "colab": {},
    "colab_type": "code",
    "id": "miN2u44O5rOw"
   },
   "outputs": [
    {
     "name": "stdout",
     "output_type": "stream",
     "text": [
      "[40 29]\n"
     ]
    }
   ],
   "source": [
    "# Return the third column values from the 4th and 5th rows\n",
    "\n",
    "### YOUR CODE GOES HERE ###\n",
    "third_column_values = x[3:5, 2]\n",
    "print(third_column_values)\n",
    "\n"
   ]
  },
  {
   "cell_type": "code",
   "execution_count": 7,
   "metadata": {
    "cellView": "form",
    "colab": {},
    "colab_type": "code",
    "id": "6yQ6CcTgutmi"
   },
   "outputs": [
    {
     "data": {
      "text/plain": [
       "array([40, 29])"
      ]
     },
     "execution_count": 7,
     "metadata": {},
     "output_type": "execute_result"
    }
   ],
   "source": [
    "#@title Double click here for a sample solution\n",
    "\n",
    "# Return the third column values from the 4th and 5th rows\n",
    "x[3:5,2]"
   ]
  },
  {
   "cell_type": "code",
   "execution_count": 9,
   "metadata": {
    "colab": {},
    "colab_type": "code",
    "id": "rIlF6C4V57Vs"
   },
   "outputs": [
    {
     "name": "stdout",
     "output_type": "stream",
     "text": [
      "[[ 14  46  36]\n",
      " [160  36  74]\n",
      " [120  88 100]\n",
      " [194  54  80]\n",
      " [ 58  44  58]]\n"
     ]
    }
   ],
   "source": [
    "# Multiply every value in the array by 2\n",
    "\n",
    "### YOUR CODE GOES HERE ###\n",
    "multiplied_array = x * 2\n",
    "print(multiplied_array)\n"
   ]
  },
  {
   "cell_type": "code",
   "execution_count": 10,
   "metadata": {
    "cellView": "form",
    "colab": {},
    "colab_type": "code",
    "id": "_uAfgS2huxKs"
   },
   "outputs": [
    {
     "data": {
      "text/plain": [
       "array([[ 14,  46,  36],\n",
       "       [160,  36,  74],\n",
       "       [120,  88, 100],\n",
       "       [194,  54,  80],\n",
       "       [ 58,  44,  58]])"
      ]
     },
     "execution_count": 10,
     "metadata": {},
     "output_type": "execute_result"
    }
   ],
   "source": [
    "#@title Double click here for a sample solution\n",
    "\n",
    "# Multiply every value in the array by 2\n",
    "x*2"
   ]
  },
  {
   "cell_type": "code",
   "execution_count": 11,
   "metadata": {
    "colab": {},
    "colab_type": "code",
    "id": "bOe7VPNX6BSf"
   },
   "outputs": [
    {
     "name": "stdout",
     "output_type": "stream",
     "text": [
      "[[ 2.33333333  7.66666667  6.        ]\n",
      " [26.66666667  6.         12.33333333]\n",
      " [20.         14.66666667 16.66666667]\n",
      " [32.33333333  9.         13.33333333]\n",
      " [ 9.66666667  7.33333333  9.66666667]]\n"
     ]
    }
   ],
   "source": [
    "# Divide every value by 3\n",
    "\n",
    "### YOUR CODE GOES HERE ###\n",
    "divide_array = x / 3\n",
    "print(divide_array)"
   ]
  },
  {
   "cell_type": "code",
   "execution_count": 12,
   "metadata": {
    "cellView": "form",
    "colab": {},
    "colab_type": "code",
    "id": "7ys4zegYu2bg"
   },
   "outputs": [
    {
     "data": {
      "text/plain": [
       "array([[ 2.33333333,  7.66666667,  6.        ],\n",
       "       [26.66666667,  6.        , 12.33333333],\n",
       "       [20.        , 14.66666667, 16.66666667],\n",
       "       [32.33333333,  9.        , 13.33333333],\n",
       "       [ 9.66666667,  7.33333333,  9.66666667]])"
      ]
     },
     "execution_count": 12,
     "metadata": {},
     "output_type": "execute_result"
    }
   ],
   "source": [
    "#@title Double click here for a sample solution\n",
    "\n",
    "# Divide every value by 3\n",
    "x/3"
   ]
  },
  {
   "cell_type": "code",
   "execution_count": 13,
   "metadata": {
    "colab": {},
    "colab_type": "code",
    "id": "8m4fiyxk6F8F"
   },
   "outputs": [
    {
     "name": "stdout",
     "output_type": "stream",
     "text": [
      "[[19 35 30]\n",
      " [80 18 37]\n",
      " [60 44 50]\n",
      " [97 27 40]\n",
      " [29 22 29]]\n"
     ]
    }
   ],
   "source": [
    "# Increase the values in the first row by 12\n",
    "\n",
    "### YOUR CODE GOES HERE ###\n",
    "x[0, :] += 12  \n",
    "print(x)\n"
   ]
  },
  {
   "cell_type": "code",
   "execution_count": 14,
   "metadata": {
    "cellView": "form",
    "colab": {},
    "colab_type": "code",
    "id": "Gf8PLLDLu8yO"
   },
   "outputs": [
    {
     "data": {
      "text/plain": [
       "array([[31, 47, 42],\n",
       "       [80, 18, 37],\n",
       "       [60, 44, 50],\n",
       "       [97, 27, 40],\n",
       "       [29, 22, 29]])"
      ]
     },
     "execution_count": 14,
     "metadata": {},
     "output_type": "execute_result"
    }
   ],
   "source": [
    "#@title Double click here for a sample solution\n",
    "\n",
    "# Increase the values in the first row by 12\n",
    "x[0,] = x[0,] + 12\n",
    "x"
   ]
  },
  {
   "cell_type": "code",
   "execution_count": 15,
   "metadata": {
    "colab": {},
    "colab_type": "code",
    "id": "2n50I7TC6LDF"
   },
   "outputs": [
    {
     "name": "stdout",
     "output_type": "stream",
     "text": [
      "59.4\n"
     ]
    }
   ],
   "source": [
    "# Calculate the mean of the first column\n",
    "\n",
    "### YOUR CODE GOES HERE ###\n",
    "mean_first_column = x[:, 0].mean()\n",
    "print(mean_first_column)\n"
   ]
  },
  {
   "cell_type": "code",
   "execution_count": 16,
   "metadata": {
    "cellView": "form",
    "colab": {},
    "colab_type": "code",
    "id": "0YTgjIRVu-Tk"
   },
   "outputs": [
    {
     "data": {
      "text/plain": [
       "np.float64(59.4)"
      ]
     },
     "execution_count": 16,
     "metadata": {},
     "output_type": "execute_result"
    }
   ],
   "source": [
    "#@title Double click here for a sample solution\n",
    "\n",
    "# Calculate the mean of the first column\n",
    "x[:,0].mean()"
   ]
  },
  {
   "cell_type": "code",
   "execution_count": 17,
   "metadata": {
    "colab": {},
    "colab_type": "code",
    "id": "EGnUcNsu6QaG"
   },
   "outputs": [
    {
     "name": "stdout",
     "output_type": "stream",
     "text": [
      "42.0\n"
     ]
    }
   ],
   "source": [
    "# Calculate the median of the array after removing the 2 smallest values in the array\n",
    "\n",
    "### YOUR CODE GOES HERE ###\n",
    "\n",
    "x1 = np.delete(x, x.argmin())  \n",
    "x1 = np.delete(x1, x1.argmin())\n",
    "median_array = np.median(x1)\n",
    "print(median_array)\n"
   ]
  },
  {
   "cell_type": "code",
   "execution_count": 19,
   "metadata": {
    "cellView": "form",
    "colab": {},
    "colab_type": "code",
    "id": "r_0ucAvMu_lT"
   },
   "outputs": [
    {
     "data": {
      "text/plain": [
       "np.float64(42.0)"
      ]
     },
     "execution_count": 19,
     "metadata": {},
     "output_type": "execute_result"
    }
   ],
   "source": [
    "#@title Double click here for a sample solution\n",
    "\n",
    "# Calculate the median of the array after removing the 2 smallest values in the array\n",
    "x1 = np.delete(x, x.argmin())\n",
    "x1 = np.delete(x1, x1.argmin())\n",
    "np.median(x1)\n"
   ]
  },
  {
   "cell_type": "code",
   "execution_count": 20,
   "metadata": {
    "colab": {},
    "colab_type": "code",
    "id": "R-jy3YK46XJh"
   },
   "outputs": [
    {
     "name": "stdout",
     "output_type": "stream",
     "text": [
      "16.5872180449024\n"
     ]
    }
   ],
   "source": [
    "# Calculate the standard deviation of the first 3 rows\n",
    "\n",
    "### YOUR CODE GOES HERE ###\n",
    "\n",
    "std_first_3 = np.std(x[:3, :]) \n",
    "print(std_first_3)\n"
   ]
  },
  {
   "cell_type": "code",
   "execution_count": 21,
   "metadata": {
    "cellView": "form",
    "colab": {},
    "colab_type": "code",
    "id": "V9ncUcdYvA_w"
   },
   "outputs": [
    {
     "data": {
      "text/plain": [
       "np.float64(16.5872180449024)"
      ]
     },
     "execution_count": 21,
     "metadata": {},
     "output_type": "execute_result"
    }
   ],
   "source": [
    "#@title Double click here for a sample solution\n",
    "\n",
    "# Calculate the standard deviation of the first 3 rows\n",
    "np.std(x[:3],)"
   ]
  },
  {
   "cell_type": "code",
   "execution_count": 22,
   "metadata": {
    "colab": {},
    "colab_type": "code",
    "id": "vhVL5EN_6crc"
   },
   "outputs": [
    {
     "name": "stdout",
     "output_type": "stream",
     "text": [
      "[47 44 27]\n"
     ]
    }
   ],
   "source": [
    "# Return values in the second column greater than 25\n",
    "\n",
    "### YOUR CODE GOES HERE ###\n",
    "greater_than = x[:, 1][x[:, 1] > 25]  \n",
    "print(greater_than)\n"
   ]
  },
  {
   "cell_type": "code",
   "execution_count": 23,
   "metadata": {
    "cellView": "form",
    "colab": {},
    "colab_type": "code",
    "id": "eZv0Bv0LvCX0"
   },
   "outputs": [
    {
     "name": "stdout",
     "output_type": "stream",
     "text": [
      "Values bigger than 25 on the second column = [47 44 27]\n"
     ]
    }
   ],
   "source": [
    "#@title Double click here for a sample solution\n",
    "\n",
    "# Return values in the second column greater than 25\n",
    "print(\"Values bigger than 25 on the second column =\", x[:,1][x[:,1]>25])"
   ]
  },
  {
   "cell_type": "code",
   "execution_count": 26,
   "metadata": {
    "colab": {},
    "colab_type": "code",
    "id": "m-5gH97R6hj1"
   },
   "outputs": [
    {
     "name": "stdout",
     "output_type": "stream",
     "text": [
      "[31 18 37 27 29 22 29]\n"
     ]
    }
   ],
   "source": [
    "# Return values in the array under 40\n",
    "\n",
    "### YOUR CODE GOES HERE ###\n",
    "array_under_40 = x[x<40]\n",
    "print(array_under_40)"
   ]
  },
  {
   "cell_type": "code",
   "execution_count": 25,
   "metadata": {
    "cellView": "form",
    "colab": {},
    "colab_type": "code",
    "id": "AZPejsMgvDlr"
   },
   "outputs": [
    {
     "name": "stdout",
     "output_type": "stream",
     "text": [
      "Values under 40 in array = [31 18 37 27 29 22 29]\n"
     ]
    }
   ],
   "source": [
    "#@title Double click here for a sample solution\n",
    "\n",
    "# Return values in the array under 40\n",
    "print(\"Values under 40 in array =\", x[x<40])"
   ]
  }
 ],
 "metadata": {
  "colab": {
   "collapsed_sections": [],
   "name": "Intro to Numpy -EXERCISE.ipynb",
   "provenance": [
    {
     "file_id": "1vYNAOjBKKDfJjQhfYyHiilvJKYtV6xvU",
     "timestamp": 1574183847770
    },
    {
     "file_id": "1n6NmJmUpxhIPn4ZCsbK2tiV6PZ6MDD00",
     "timestamp": 1566950097327
    },
    {
     "file_id": "1wlKS2ySxKKZ6msBXn-8S8qe-4rRoWSKI",
     "timestamp": 1560402395187
    },
    {
     "file_id": "1scRLpBtHS0jXC72opqLsj3wMHilVELnZ",
     "timestamp": 1560164436155
    },
    {
     "file_id": "1Gj8xFEghBwX8exDkdBWvNSzOUTYlNxI9",
     "timestamp": 1559546697443
    },
    {
     "file_id": "1TeHiJ5s48kWFy5BosIWhjK2MQyMkPHNo",
     "timestamp": 1559546187577
    },
    {
     "file_id": "1f_9CXFJzBvrAePaDr_WYQGHEBS5th53b",
     "timestamp": 1559541190636
    }
   ]
  },
  "kernelspec": {
   "display_name": "Python 3",
   "name": "python3"
  },
  "language_info": {
   "codemirror_mode": {
    "name": "ipython",
    "version": 3
   },
   "file_extension": ".py",
   "mimetype": "text/x-python",
   "name": "python",
   "nbconvert_exporter": "python",
   "pygments_lexer": "ipython3",
   "version": "3.13.2"
  }
 },
 "nbformat": 4,
 "nbformat_minor": 0
}
