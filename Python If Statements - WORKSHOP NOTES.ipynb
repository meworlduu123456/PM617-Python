{
 "cells": [
  {
   "cell_type": "markdown",
   "metadata": {
    "colab_type": "text",
    "id": "88DkYvdi9-KM"
   },
   "source": [
    "---\n",
    "# Crash Course Python for Data Science - Intro to Python  \n",
    "---\n",
    "# 04 - Python If Statements\n",
    "---\n"
   ]
  },
  {
   "cell_type": "markdown",
   "metadata": {
    "colab_type": "text",
    "id": "2wNgbd48-jqJ"
   },
   "source": [
    "## Run code only if certain conditions are met\n",
    "\n",
    "An if statement is a piece of code syntax that checks a condition and if that condition is `True` then we enter into the if statement and execute the code inside of it, if the condition evaluates to `False` then the block of code gets skipped:"
   ]
  },
  {
   "cell_type": "code",
   "execution_count": 0,
   "metadata": {
    "colab": {},
    "colab_type": "code",
    "id": "m8DraGea-2uJ"
   },
   "outputs": [],
   "source": [
    "if 4 > 5:\n",
    "  print(\"Four is greater than five\")"
   ]
  },
  {
   "cell_type": "code",
   "execution_count": 0,
   "metadata": {
    "colab": {},
    "colab_type": "code",
    "id": "_pZ59AOm94VG"
   },
   "outputs": [],
   "source": [
    "if 5 > 4:\n",
    "  print(\"Five is greater than four.\")"
   ]
  },
  {
   "cell_type": "markdown",
   "metadata": {
    "colab_type": "text",
    "id": "A2vsGyqG_ANz"
   },
   "source": [
    "As you can see with the two if statements written above that the first condition was not true so the print statement inside was never executed, but in the second if statement the condition `5 > 4` was true so the if statement was executed. \n",
    "\n",
    "There are lots of ways that we can write conditional statements that will evaluate to something that is true or false, for starters we'll just look at a gorup of symbols called \"comparison operators\" that we can use. \n"
   ]
  },
  {
   "cell_type": "markdown",
   "metadata": {
    "colab_type": "text",
    "id": "zF4cVZQ9_pjc"
   },
   "source": [
    "### Comparison Operators:\n",
    "\n",
    "`==` - The Equality Comparison Operator\n",
    "\n",
    "`!=` - The Inequality Comparison Operator\n",
    "\n",
    "`>` - The Greater-Than Operator\n",
    "\n",
    "`<` - The Less-Than Operator\n",
    "\n",
    "`>=` - The Greater-Than or Equal-To Operator\n",
    "\n",
    "`<=` - The Less-Than or Equal-To Operator\n",
    "\n",
    "All of these comparison operators can be used in conditional statements to control the flow of a program.\n"
   ]
  },
  {
   "cell_type": "code",
   "execution_count": 0,
   "metadata": {
    "colab": {},
    "colab_type": "code",
    "id": "Cw15ZiiSI0AP"
   },
   "outputs": [],
   "source": [
    "4 > 5"
   ]
  },
  {
   "cell_type": "code",
   "execution_count": 0,
   "metadata": {
    "colab": {},
    "colab_type": "code",
    "id": "wDF_yCdhI0-u"
   },
   "outputs": [],
   "source": [
    "5 > 4"
   ]
  },
  {
   "cell_type": "code",
   "execution_count": 0,
   "metadata": {
    "colab": {},
    "colab_type": "code",
    "id": "w5qjqxqkLFz9"
   },
   "outputs": [],
   "source": [
    "5 == 4"
   ]
  },
  {
   "cell_type": "code",
   "execution_count": 0,
   "metadata": {
    "colab": {},
    "colab_type": "code",
    "id": "593IGKuGLHX9"
   },
   "outputs": [],
   "source": [
    "4 != 5"
   ]
  },
  {
   "cell_type": "markdown",
   "metadata": {
    "colab_type": "text",
    "id": "9Iq8a4CzKLYr"
   },
   "source": [
    "### The `else` Condition\n",
    "\n",
    "If statements will only run if the conditions stated evaluate to true, but what happens the rest of the time when the conditions aren't met? This is where If-Else statements come in. If-else statements provide a first statement that runs if the conditions are met and also a second block of code that runs if the conditions are not met as a kind of catch-all."
   ]
  },
  {
   "cell_type": "code",
   "execution_count": 9,
   "metadata": {
    "colab": {},
    "colab_type": "code",
    "id": "xeCTjys6I2XA"
   },
   "outputs": [
    {
     "name": "stdout",
     "output_type": "stream",
     "text": [
      "Stay home and watch Netflix.\n"
     ]
    }
   ],
   "source": [
    "money_in_wallet = 5.00\n",
    "movie_ticket_price = 8.99\n",
    "\n",
    "if money_in_wallet >= movie_ticket_price:\n",
    "  print(\"Go to the movies!\")\n",
    "else:\n",
    "  print(\"Stay home and watch Netflix.\")"
   ]
  },
  {
   "cell_type": "markdown",
   "metadata": {
    "colab_type": "text",
    "id": "jBYjn9tsL18z"
   },
   "source": [
    "### The `elif` condition\n",
    "\n",
    "In addition to the `if` and `else` keywords we can use the `elif` keyword to include multiple if statements together in a group.\n"
   ]
  },
  {
   "cell_type": "code",
   "execution_count": 0,
   "metadata": {
    "colab": {},
    "colab_type": "code",
    "id": "PTlkyj52Kut8"
   },
   "outputs": [],
   "source": [
    "visitor = \"George\"\n",
    "\n",
    "if visitor == \"Bryce\":\n",
    "  print(\"Hi Bryce!\")\n",
    "elif visitor == \"Jacob\":\n",
    "  print(\"Hi Jacob!\")\n",
    "elif visitor == \"Mike\":\n",
    "  print(\"Hi Mike!\")\n",
    "elif visitor == \"Ben\":\n",
    "  print(\"Hi Ben!\")\n",
    "elif visitor == \"Young\":\n",
    "  print(\"Hi Young!\")\n",
    "else:\n",
    "  print(\"Pleased to meet you!\")"
   ]
  },
  {
   "cell_type": "code",
   "execution_count": 7,
   "metadata": {
    "colab": {},
    "colab_type": "code",
    "id": "RmOBNjM7IdKZ"
   },
   "outputs": [
    {
     "name": "stdout",
     "output_type": "stream",
     "text": [
      "0\n",
      "1\n",
      "2\n",
      "3\n",
      "4\n"
     ]
    }
   ],
   "source": [
    "x = 0\n",
    "\n",
    "while x < 5:\n",
    "  print(x)\n",
    "  x += 1\n",
    "  "
   ]
  },
  {
   "cell_type": "markdown",
   "metadata": {
    "colab_type": "text",
    "id": "koNtVENiQWP1"
   },
   "source": [
    "### The `in` keyword\n",
    "\n",
    "Sometimes checking for specific values one by one can get really tedious and repetitive (both things that we want to avoid). We can write a simpler if statement if we hold all of our friend's names in a list and then use the `in` keyword to check if a certain name is in the list.\n",
    "\n",
    "Expressions using the `in` keyword will evaluate to `True` if an item is found in a list, but will evaluate to `False` if an item is not found in a list"
   ]
  },
  {
   "cell_type": "code",
   "execution_count": 8,
   "metadata": {
    "colab": {},
    "colab_type": "code",
    "id": "yQPFh7AlOIrO"
   },
   "outputs": [
    {
     "name": "stdout",
     "output_type": "stream",
     "text": [
      "Hi Mike!\n"
     ]
    }
   ],
   "source": [
    "friends = [\"Bryce\", \"Jacob\", \"Mike\", \"Ben\", \"Young\"]\n",
    "\n",
    "visitor = \"Mike\"\n",
    "\n",
    "if visitor in friends:\n",
    "  print(\"Hi \" + visitor + \"!\")\n",
    "else:\n",
    "  print(\"Pleased to meet you!\")"
   ]
  },
  {
   "cell_type": "markdown",
   "metadata": {
    "colab_type": "text",
    "id": "--FnaXANUJXu"
   },
   "source": [
    "### Logical Operators\n",
    "\n",
    "In some cases we might want to include multiple conditions in our if statement and only have an if statement's block execute if both conditions are true or if either of the conditions are true. We can use the two following \"Logical Operators\" in these kinds of scenarios\n",
    "\n",
    "`and` - Evaluates to True if expressions to its left ***and*** to its right are true.\n",
    "\n",
    "`or` - Evalues to True if either expressions to its left ***or*** right are true.\n",
    "\n"
   ]
  },
  {
   "cell_type": "code",
   "execution_count": 6,
   "metadata": {
    "colab": {},
    "colab_type": "code",
    "id": "ztAEdIvmUtOY"
   },
   "outputs": [
    {
     "name": "stdout",
     "output_type": "stream",
     "text": [
      "Go to Google School!\n"
     ]
    }
   ],
   "source": [
    "# You can fiddle with these parameters to see how the if statement below will react.\n",
    "wants_to_learn_data_science = True\n",
    "will_work_hard = True\n",
    "age = 20\n",
    "\n",
    "if age >= 18 and wants_to_learn_data_science and will_work_hard:\n",
    "  print(\"Go to Google School!\")\n",
    "elif wants_to_learn_data_science or will_work_hard or age >= 18:\n",
    "  print(\"Your future is bright!\")\n",
    "else:\n",
    "  print(\"Find something that's a good fit for you.\")"
   ]
  },
  {
   "cell_type": "markdown",
   "metadata": {
    "colab_type": "text",
    "id": "KTRw4TrpRfKf"
   },
   "source": [
    "## Loops + If Statements "
   ]
  },
  {
   "cell_type": "markdown",
   "metadata": {
    "colab_type": "text",
    "id": "tawyU7TIWry-"
   },
   "source": [
    "### The FizzBuzz Question\n",
    "\n",
    "The FizzBuzz Question is a well-known code challenge that is meant to test if a person has a beginning grasp on things like if statements, and for loops. It instructions usually go something like this:\n",
    "\n",
    "- Print out the numbers 1-100, however...\n",
    "- If a number is divisible by 3, print out the string \"Fizz\" instead of the number.\n",
    "- If a number is divisible by 5 print out the string \"Buzz\" instead of the number\n",
    "- If a number is divisible by both 3 and 5 print out the string \"FizzBuzz\" instead of the number\n"
   ]
  },
  {
   "cell_type": "code",
   "execution_count": 2,
   "metadata": {
    "colab": {},
    "colab_type": "code",
    "id": "ZrPDSrQRRGjn"
   },
   "outputs": [
    {
     "name": "stdout",
     "output_type": "stream",
     "text": [
      "1\n",
      "2\n",
      "Fizz\n",
      "4\n",
      "Buzz\n",
      "Fizz\n",
      "7\n",
      "8\n",
      "Fizz\n",
      "Buzz\n",
      "11\n",
      "Fizz\n",
      "13\n",
      "14\n",
      "FizzBuzz\n",
      "16\n",
      "17\n",
      "Fizz\n",
      "19\n",
      "Buzz\n",
      "Fizz\n",
      "22\n",
      "23\n",
      "Fizz\n",
      "Buzz\n",
      "26\n",
      "Fizz\n",
      "28\n",
      "29\n",
      "FizzBuzz\n",
      "31\n",
      "32\n",
      "Fizz\n",
      "34\n",
      "Buzz\n",
      "Fizz\n",
      "37\n",
      "38\n",
      "Fizz\n",
      "Buzz\n",
      "41\n",
      "Fizz\n",
      "43\n",
      "44\n",
      "FizzBuzz\n",
      "46\n",
      "47\n",
      "Fizz\n",
      "49\n",
      "Buzz\n",
      "Fizz\n",
      "52\n",
      "53\n",
      "Fizz\n",
      "Buzz\n",
      "56\n",
      "Fizz\n",
      "58\n",
      "59\n",
      "FizzBuzz\n",
      "61\n",
      "62\n",
      "Fizz\n",
      "64\n",
      "Buzz\n",
      "Fizz\n",
      "67\n",
      "68\n",
      "Fizz\n",
      "Buzz\n",
      "71\n",
      "Fizz\n",
      "73\n",
      "74\n",
      "FizzBuzz\n",
      "76\n",
      "77\n",
      "Fizz\n",
      "79\n",
      "Buzz\n",
      "Fizz\n",
      "82\n",
      "83\n",
      "Fizz\n",
      "Buzz\n",
      "86\n",
      "Fizz\n",
      "88\n",
      "89\n",
      "FizzBuzz\n",
      "91\n",
      "92\n",
      "Fizz\n",
      "94\n",
      "Buzz\n",
      "Fizz\n",
      "97\n",
      "98\n",
      "Fizz\n",
      "Buzz\n"
     ]
    }
   ],
   "source": [
    "for number in range(1, 101):  \n",
    "  # if number is divisible by 3, prin out \"Fizz\"\n",
    "  if number % 5 == 0 and number % 3 == 0:\n",
    "    print(\"FizzBuzz\")\n",
    "  elif number % 3 == 0:\n",
    "    print(\"Fizz\")\n",
    "  elif number % 5 == 0:\n",
    "    print(\"Buzz\")\n",
    "  else:\n",
    "    print(number)"
   ]
  },
  {
   "cell_type": "markdown",
   "metadata": {
    "colab_type": "text",
    "id": "p1E3CjqhLuFe"
   },
   "source": [
    "### Modulus Operator: `%`\n",
    "\n",
    "\n"
   ]
  },
  {
   "cell_type": "code",
   "execution_count": 1,
   "metadata": {
    "colab": {},
    "colab_type": "code",
    "id": "n8kyqpsWLtda"
   },
   "outputs": [
    {
     "data": {
      "text/plain": [
       "2"
      ]
     },
     "execution_count": 1,
     "metadata": {},
     "output_type": "execute_result"
    }
   ],
   "source": [
    "5 % 3"
   ]
  },
  {
   "cell_type": "code",
   "execution_count": 3,
   "metadata": {
    "colab": {},
    "colab_type": "code",
    "id": "3DZIpw9vLdz8"
   },
   "outputs": [
    {
     "data": {
      "text/plain": [
       "1"
      ]
     },
     "execution_count": 3,
     "metadata": {},
     "output_type": "execute_result"
    }
   ],
   "source": [
    "5 % 2"
   ]
  },
  {
   "cell_type": "code",
   "execution_count": 4,
   "metadata": {
    "colab": {},
    "colab_type": "code",
    "id": "_at4QwaaL9wN"
   },
   "outputs": [
    {
     "data": {
      "text/plain": [
       "0"
      ]
     },
     "execution_count": 4,
     "metadata": {},
     "output_type": "execute_result"
    }
   ],
   "source": [
    "6 % 3"
   ]
  },
  {
   "cell_type": "code",
   "execution_count": 5,
   "metadata": {
    "colab": {},
    "colab_type": "code",
    "id": "sZU28M7zMA8t"
   },
   "outputs": [
    {
     "data": {
      "text/plain": [
       "0"
      ]
     },
     "execution_count": 5,
     "metadata": {},
     "output_type": "execute_result"
    }
   ],
   "source": [
    "10 % 5"
   ]
  }
 ],
 "metadata": {
  "colab": {
   "collapsed_sections": [],
   "name": "Python If Statements - WORKSHOP NOTES.ipynb",
   "provenance": [
    {
     "file_id": "1-TSbUCR2LKrxImY3HLipi0ZfPjF-oaip",
     "timestamp": 1574180809580
    }
   ]
  },
  "kernelspec": {
   "display_name": "Python 3",
   "name": "python3"
  },
  "language_info": {
   "codemirror_mode": {
    "name": "ipython",
    "version": 3
   },
   "file_extension": ".py",
   "mimetype": "text/x-python",
   "name": "python",
   "nbconvert_exporter": "python",
   "pygments_lexer": "ipython3",
   "version": "3.13.2"
  }
 },
 "nbformat": 4,
 "nbformat_minor": 0
}
